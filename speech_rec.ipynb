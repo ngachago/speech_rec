{
 "cells": [
  {
   "cell_type": "markdown",
   "id": "received-beatles",
   "metadata": {},
   "source": [
    "## Speech Emotion Recognition Project\n",
    "\n",
    "This notebook contains the implementation of the above project found [here](https://data-flair.training/blogs/python-mini-project-speech-emotion-recognition/). The code provided in the original project is denoted by *DataFlair* at the beginning of the comment. Additions I have made are denoted by *NG*."
   ]
  },
  {
   "cell_type": "code",
   "execution_count": 84,
   "id": "improved-suggestion",
   "metadata": {},
   "outputs": [],
   "source": [
    "import librosa\n",
    "import soundfile\n",
    "import os, glob, pickle\n",
    "import numpy as np\n",
    "from sklearn.model_selection import train_test_split\n",
    "from sklearn.neural_network import MLPClassifier\n",
    "from sklearn.metrics import accuracy_score\n",
    "from sklearn.dummy import DummyClassifier\n",
    "import matplotlib.pyplot as plt\n",
    "from sklearn.model_selection import GridSearchCV"
   ]
  },
  {
   "cell_type": "code",
   "execution_count": 46,
   "id": "polish-coast",
   "metadata": {},
   "outputs": [],
   "source": [
    "#DataFlair - Extract features (mfcc, chroma, mel) from a sound file\n",
    "\n",
    "def extract_feature(file_name, mfcc, chroma, mel):\n",
    "    with soundfile.SoundFile(file_name) as sound_file:\n",
    "        X = sound_file.read(dtype=\"float32\")\n",
    "        sample_rate=sound_file.samplerate\n",
    "        if chroma:\n",
    "            stft=np.abs(librosa.stft(X))\n",
    "        result=np.array([])\n",
    "        if mfcc:\n",
    "            mfccs=np.mean(librosa.feature.mfcc(y=X, sr=sample_rate, n_mfcc=40).T, axis=0)\n",
    "            result=np.hstack((result, mfccs))\n",
    "        if chroma:\n",
    "            chroma=np.mean(librosa.feature.chroma_stft(S=stft, sr=sample_rate).T,axis=0)\n",
    "            result=np.hstack((result, chroma))\n",
    "        if mel:\n",
    "            mel=np.mean(librosa.feature.melspectrogram(X, sr=sample_rate).T,axis=0)\n",
    "            result=np.hstack((result, mel))\n",
    "    return result"
   ]
  },
  {
   "cell_type": "code",
   "execution_count": 3,
   "id": "qualified-boards",
   "metadata": {},
   "outputs": [],
   "source": [
    "#DataFlair - Emotions in the RAVDESS dataset\n",
    "\n",
    "emotions={\n",
    "  '01':'neutral',\n",
    "  '02':'calm',\n",
    "  '03':'happy',\n",
    "  '04':'sad',\n",
    "  '05':'angry',\n",
    "  '06':'fearful',\n",
    "  '07':'disgust',\n",
    "  '08':'surprised'\n",
    "}\n",
    "\n",
    "# Emotions to observe\n",
    "observed_emotions=['calm', 'happy', 'fearful', 'disgust']"
   ]
  },
  {
   "cell_type": "code",
   "execution_count": 4,
   "id": "irish-merchant",
   "metadata": {},
   "outputs": [
    {
     "name": "stdout",
     "output_type": "stream",
     "text": [
      "/c/Users/njeri/Projects/speech_rec\n"
     ]
    }
   ],
   "source": [
    "!pwd"
   ]
  },
  {
   "cell_type": "code",
   "execution_count": 5,
   "id": "human-skill",
   "metadata": {},
   "outputs": [],
   "source": [
    "#DataFlair - Load the data and extract features for each sound file\n",
    "\n",
    "def load_data(test_size=0.2):\n",
    "    X,y=[],[]\n",
    "    for file in glob.glob(\"C:\\\\Users\\\\njeri\\\\Projects\\\\speech_rec\\\\data\\\\Actor_*\\\\*.wav\"):\n",
    "        file_name=os.path.basename(file)\n",
    "        emotion=emotions[file_name.split(\"-\")[2]]\n",
    "        if emotion not in observed_emotions:\n",
    "            continue\n",
    "        feature=extract_feature(file, mfcc=True, chroma=True, mel=True)\n",
    "        X.append(feature)\n",
    "        y.append(emotion)\n",
    "    return train_test_split(np.array(X), y, test_size=test_size, random_state=9)"
   ]
  },
  {
   "cell_type": "code",
   "execution_count": 6,
   "id": "educated-arkansas",
   "metadata": {},
   "outputs": [],
   "source": [
    "#DataFlair - Split the dataset\n",
    "\n",
    "X_train, X_test, y_train, y_test = load_data(test_size=0.25)"
   ]
  },
  {
   "cell_type": "code",
   "execution_count": 7,
   "id": "emerging-assembly",
   "metadata": {},
   "outputs": [
    {
     "name": "stdout",
     "output_type": "stream",
     "text": [
      "(576, 192)\n"
     ]
    }
   ],
   "source": [
    "#DataFlair - Get the shape of the training and testing datasets\n",
    "\n",
    "print((X_train.shape[0], X_test.shape[0]))"
   ]
  },
  {
   "cell_type": "code",
   "execution_count": 8,
   "id": "wound-hypothesis",
   "metadata": {},
   "outputs": [
    {
     "name": "stdout",
     "output_type": "stream",
     "text": [
      "Features extracted: 180\n"
     ]
    }
   ],
   "source": [
    "#DataFlair - Get the number of features extracted\n",
    "\n",
    "print(f'Features extracted: {X_train.shape[1]}')"
   ]
  },
  {
   "cell_type": "code",
   "execution_count": 78,
   "id": "advanced-upset",
   "metadata": {},
   "outputs": [
    {
     "name": "stdout",
     "output_type": "stream",
     "text": [
      "Accuracy: 22.0%\n"
     ]
    }
   ],
   "source": [
    "#NG - Establish a baseline with Dummy Classifier\n",
    "\n",
    "dummy_model = DummyClassifier(strategy='stratified', random_state=3)\n",
    "dummy_model.fit(X_train, y_train)\n",
    "dummy_model.predict(X_test)\n",
    "print(f'Accuracy: {round(dummy_model.score(X_test, y_test), 2)*100}%')"
   ]
  },
  {
   "cell_type": "code",
   "execution_count": 87,
   "id": "legendary-sweet",
   "metadata": {},
   "outputs": [],
   "source": [
    "#DataFlair - Initialize the Multi Layer Perceptron Classifier\n",
    "#NG - added early stopping and validation fraction to provide validation data for loss comparison against training data\n",
    "\n",
    "model = MLPClassifier(alpha=0.01, batch_size=256, epsilon=1e-08, hidden_layer_sizes=(300,), learning_rate='adaptive', max_iter=500)"
   ]
  },
  {
   "cell_type": "code",
   "execution_count": 88,
   "id": "global-publication",
   "metadata": {},
   "outputs": [
    {
     "name": "stdout",
     "output_type": "stream",
     "text": [
      "Wall time: 1.05 s\n"
     ]
    },
    {
     "data": {
      "text/plain": [
       "MLPClassifier(alpha=0.01, batch_size=256, hidden_layer_sizes=(300,),\n",
       "              learning_rate='adaptive', max_iter=500)"
      ]
     },
     "execution_count": 88,
     "metadata": {},
     "output_type": "execute_result"
    }
   ],
   "source": [
    "%%time\n",
    "#DataFlair - Train the model\n",
    "\n",
    "model.fit(X_train, y_train)"
   ]
  },
  {
   "cell_type": "code",
   "execution_count": 89,
   "id": "private-fleet",
   "metadata": {},
   "outputs": [],
   "source": [
    "#DataFlair - Predict for the test set\n",
    "\n",
    "y_pred = model.predict(X_test)"
   ]
  },
  {
   "cell_type": "code",
   "execution_count": 90,
   "id": "dated-priority",
   "metadata": {},
   "outputs": [
    {
     "name": "stdout",
     "output_type": "stream",
     "text": [
      "Accuracy: 62.50%\n"
     ]
    }
   ],
   "source": [
    "#DataFlair - Calculate the accuracy of our model\n",
    "accuracy = accuracy_score(y_true=y_test, y_pred=y_pred)\n",
    "\n",
    "#DataFlair - Print the accuracy\n",
    "print(\"Accuracy: {:.2f}%\".format(accuracy*100))"
   ]
  },
  {
   "cell_type": "code",
   "execution_count": 56,
   "id": "terminal-service",
   "metadata": {},
   "outputs": [
    {
     "data": {
      "image/png": "[encoded data removed]",
      "text/plain": [
       "<Figure size 432x288 with 1 Axes>"
      ]
     },
     "metadata": {
      "needs_background": "light"
     },
     "output_type": "display_data"
    }
   ],
   "source": [
    "#NG - Plot the loss curve\n",
    "plt.plot(model.loss_curve_)\n",
    "plt.title('Model loss')\n",
    "plt.ylabel('Loss')\n",
    "plt.xlabel('Iteration')\n",
    "plt.savefig('visualizations/model_loss.png')\n",
    "plt.show()"
   ]
  },
  {
   "cell_type": "code",
   "execution_count": 15,
   "id": "seventh-tournament",
   "metadata": {},
   "outputs": [
    {
     "name": "stdout",
     "output_type": "stream",
     "text": [
      "Best loss: 0.54\n",
      "Number of iterations: 93\n",
      "Number of layers: 3\n",
      "Output activation function: softmax\n"
     ]
    }
   ],
   "source": [
    "#NG - Inspect other attributes to get a sense of model structure\n",
    "\n",
    "print(f'Best loss: {round(model.best_loss_, 2)}')\n",
    "print(f'Number of iterations: {model.n_iter_}')\n",
    "print(f'Number of layers: {model.n_layers_}')\n",
    "print(f'Output activation function: {model.out_activation_}')"
   ]
  },
  {
   "cell_type": "markdown",
   "id": "novel-closing",
   "metadata": {},
   "source": [
    "## Tune Model\n",
    "\n",
    "The MLPClassifier had a higher accuracy score (62%) than the baseline classifier (22%). Let's try to improve this score by tuning the hyperparameters of the model. Implementation from here on is my own."
   ]
  },
  {
   "cell_type": "code",
   "execution_count": 16,
   "id": "lasting-punch",
   "metadata": {},
   "outputs": [
    {
     "name": "stdout",
     "output_type": "stream",
     "text": [
      "Fitting 5 folds for each of 27 candidates, totalling 135 fits\n",
      "Wall time: 4min 50s\n"
     ]
    },
    {
     "data": {
      "text/plain": [
       "GridSearchCV(estimator=MLPClassifier(max_iter=1000), n_jobs=-1,\n",
       "             param_grid={'activation': ['logistic', 'tanh', 'relu'],\n",
       "                         'hidden_layer_sizes': [(100,), (150, 100),\n",
       "                                                (200, 150, 100)],\n",
       "                         'solver': ['lbfgs', 'sgd', 'adam']},\n",
       "             scoring='accuracy', verbose=1)"
      ]
     },
     "execution_count": 16,
     "metadata": {},
     "output_type": "execute_result"
    }
   ],
   "source": [
    "%%time\n",
    "# Perform a grid search to identify best model parameters\n",
    "\n",
    "estimator = MLPClassifier(max_iter=1000)\n",
    "\n",
    "# Set parameters to search\n",
    "parameters = {\n",
    "    'hidden_layer_sizes': [(100,), (150, 100), (200, 150, 100)],\n",
    "    'activation': ['logistic', 'tanh', 'relu'],\n",
    "    'solver': ['lbfgs', 'sgd', 'adam']\n",
    "    }\n",
    "\n",
    "# Perform grid search\n",
    "grid_search = GridSearchCV(estimator, parameters, n_jobs=-1, \n",
    "                           verbose=1, scoring = \"accuracy\", refit=True)\n",
    "\n",
    "grid_search.fit(X_train, y_train)"
   ]
  },
  {
   "cell_type": "code",
   "execution_count": 17,
   "id": "living-moses",
   "metadata": {},
   "outputs": [
    {
     "name": "stdout",
     "output_type": "stream",
     "text": [
      "Best estimator: MLPClassifier(activation='logistic', hidden_layer_sizes=(150, 100),\n",
      "              max_iter=1000)\n",
      "Best parameters: {'activation': 'logistic', 'hidden_layer_sizes': (150, 100), 'solver': 'adam'}\n"
     ]
    }
   ],
   "source": [
    "# Inspect best estimator\n",
    "\n",
    "print(f'Best estimator: {grid_search.best_estimator_}')\n",
    "print(f'Best parameters: {grid_search.best_params_}')"
   ]
  },
  {
   "cell_type": "code",
   "execution_count": 18,
   "id": "following-guatemala",
   "metadata": {},
   "outputs": [
    {
     "name": "stdout",
     "output_type": "stream",
     "text": [
      "Accuracy: 80.21%\n"
     ]
    }
   ],
   "source": [
    "# Predict and score on test data\n",
    "y_pred = grid_search.predict(X_test)\n",
    "accuracy_2 = accuracy_score(y_true=y_test, y_pred=y_pred)\n",
    "print(\"Accuracy: {:.2f}%\".format(accuracy_2*100))"
   ]
  },
  {
   "cell_type": "markdown",
   "id": "related-engagement",
   "metadata": {},
   "source": [
    "### Change number of neurons in each hidden layer\n",
    "\n",
    "The original DataFlair model used the default Rectified Linear Unit (relu) activation function, 1 hidden layer, and the adam solver. Through grid search, logistic activation and using 2 hidden neuron layers increased accuracy from 61% to 80%. Let's see if increasing the neurons in each layer yields a better result. "
   ]
  },
  {
   "cell_type": "code",
   "execution_count": 19,
   "id": "verbal-power",
   "metadata": {},
   "outputs": [
    {
     "name": "stdout",
     "output_type": "stream",
     "text": [
      "Fitting 5 folds for each of 3 candidates, totalling 15 fits\n",
      "Wall time: 47.8 s\n"
     ]
    },
    {
     "data": {
      "text/plain": [
       "GridSearchCV(estimator=MLPClassifier(activation='logistic', max_iter=1000),\n",
       "             n_jobs=-1,\n",
       "             param_grid={'hidden_layer_sizes': [(150, 100), (250, 150),\n",
       "                                                (350, 250)]},\n",
       "             scoring='accuracy', verbose=1)"
      ]
     },
     "execution_count": 19,
     "metadata": {},
     "output_type": "execute_result"
    }
   ],
   "source": [
    "%%time\n",
    "estimator_2 = MLPClassifier(activation='logistic', solver='adam', max_iter=1000)\n",
    "parameters_2 = {'hidden_layer_sizes': [(150, 100), (250, 150), (350, 250)]}\n",
    "grid_search_2 = GridSearchCV(estimator_2, parameters_2, n_jobs=-1, \n",
    "                           verbose=1, scoring = \"accuracy\", refit=True)\n",
    "grid_search_2.fit(X_train, y_train)"
   ]
  },
  {
   "cell_type": "code",
   "execution_count": 20,
   "id": "returning-swiss",
   "metadata": {},
   "outputs": [
    {
     "name": "stdout",
     "output_type": "stream",
     "text": [
      "Best estimator: MLPClassifier(activation='logistic', hidden_layer_sizes=(250, 150),\n",
      "              max_iter=1000)\n",
      "Best parameters: {'hidden_layer_sizes': (250, 150)}\n"
     ]
    }
   ],
   "source": [
    "print(f'Best estimator: {grid_search_2.best_estimator_}')\n",
    "print(f'Best parameters: {grid_search_2.best_params_}')"
   ]
  },
  {
   "cell_type": "code",
   "execution_count": 21,
   "id": "confused-montana",
   "metadata": {},
   "outputs": [
    {
     "name": "stdout",
     "output_type": "stream",
     "text": [
      "Accuracy: 81.77%\n"
     ]
    }
   ],
   "source": [
    "y_pred = grid_search_2.predict(X_test)\n",
    "accuracy_3 = accuracy_score(y_true=y_test, y_pred=y_pred)\n",
    "print(\"Accuracy: {:.2f}%\".format(accuracy_3*100))"
   ]
  },
  {
   "cell_type": "markdown",
   "id": "voluntary-assignment",
   "metadata": {},
   "source": [
    "### Increase number of layers\n",
    "\n",
    "Increasing the number of neurons in each layer did not have an impact. Let's try adding more hidden layers."
   ]
  },
  {
   "cell_type": "code",
   "execution_count": 22,
   "id": "decimal-assumption",
   "metadata": {},
   "outputs": [
    {
     "name": "stdout",
     "output_type": "stream",
     "text": [
      "Fitting 5 folds for each of 3 candidates, totalling 15 fits\n",
      "Wall time: 1min 21s\n"
     ]
    },
    {
     "data": {
      "text/plain": [
       "GridSearchCV(estimator=MLPClassifier(activation='logistic', max_iter=1000),\n",
       "             n_jobs=-1,\n",
       "             param_grid={'hidden_layer_sizes': [(250, 150), (350, 250, 150),\n",
       "                                                (450, 350, 250, 150)]},\n",
       "             scoring='accuracy', verbose=1)"
      ]
     },
     "execution_count": 22,
     "metadata": {},
     "output_type": "execute_result"
    }
   ],
   "source": [
    "%%time\n",
    "estimator_3 = MLPClassifier(activation='logistic', solver='adam', max_iter=1000)\n",
    "parameters_3 = {'hidden_layer_sizes': [(250, 150), (350, 250, 150), (450, 350, 250, 150)]}\n",
    "grid_search_3 = GridSearchCV(estimator_3, parameters_3, n_jobs=-1, \n",
    "                           verbose=1, scoring = \"accuracy\", refit=True)\n",
    "grid_search_3.fit(X_train, y_train)"
   ]
  },
  {
   "cell_type": "code",
   "execution_count": 23,
   "id": "opponent-billy",
   "metadata": {},
   "outputs": [
    {
     "name": "stdout",
     "output_type": "stream",
     "text": [
      "Best estimator: MLPClassifier(activation='logistic', hidden_layer_sizes=(250, 150),\n",
      "              max_iter=1000)\n",
      "Best parameters: {'hidden_layer_sizes': (250, 150)}\n"
     ]
    }
   ],
   "source": [
    "print(f'Best estimator: {grid_search_3.best_estimator_}')\n",
    "print(f'Best parameters: {grid_search_3.best_params_}')"
   ]
  },
  {
   "cell_type": "code",
   "execution_count": 24,
   "id": "aggressive-office",
   "metadata": {},
   "outputs": [
    {
     "name": "stdout",
     "output_type": "stream",
     "text": [
      "Accuracy: 79.17%\n"
     ]
    }
   ],
   "source": [
    "y_pred = grid_search_3.predict(X_test)\n",
    "accuracy_4 = accuracy_score(y_true=y_test, y_pred=y_pred)\n",
    "print(\"Accuracy: {:.2f}%\".format(accuracy_4*100))"
   ]
  },
  {
   "cell_type": "markdown",
   "id": "backed-america",
   "metadata": {},
   "source": [
    "### Tune additional parameters\n",
    "\n",
    "Two layers, one of 250 neurons and the other with 150 neurons, appears to yield the best result with the current set up. Test impact of tuning additional parameters - alpha, batch size, and learning rate. Depending on the learning rate schedule, an initial learning rate may be needed therefore learning_rate_init will also be tuned.  The inverse scaling schedule requires an exponent so power_t will also be tuned."
   ]
  },
  {
   "cell_type": "code",
   "execution_count": 25,
   "id": "creative-treaty",
   "metadata": {},
   "outputs": [
    {
     "name": "stdout",
     "output_type": "stream",
     "text": [
      "Fitting 5 folds for each of 27 candidates, totalling 135 fits\n",
      "Wall time: 4min 53s\n"
     ]
    },
    {
     "data": {
      "text/plain": [
       "GridSearchCV(estimator=MLPClassifier(activation='logistic',\n",
       "                                     hidden_layer_sizes=(250, 150),\n",
       "                                     max_iter=1000),\n",
       "             n_jobs=-1,\n",
       "             param_grid={'alpha': [0.0001, 0.001, 0.01],\n",
       "                         'batch_size': [200, 250, 300],\n",
       "                         'learning_rate': ['constant', 'invscaling',\n",
       "                                           'adaptive']},\n",
       "             scoring='accuracy', verbose=1)"
      ]
     },
     "execution_count": 25,
     "metadata": {},
     "output_type": "execute_result"
    }
   ],
   "source": [
    "%%time\n",
    "\n",
    "estimator_4 = MLPClassifier(activation='logistic', solver='adam', hidden_layer_sizes=(250, 150), max_iter=1000)\n",
    "\n",
    "parameters_4 = {\n",
    "    'alpha': [0.0001, 0.001, 0.01],\n",
    "    'batch_size': [200, 250, 300],\n",
    "    'learning_rate': ['constant', 'invscaling', 'adaptive']\n",
    "}\n",
    "\n",
    "grid_search_4 = GridSearchCV(estimator_4, parameters_4, n_jobs=-1, \n",
    "                           verbose=1, scoring = \"accuracy\", refit=True)\n",
    "\n",
    "grid_search_4.fit(X_train, y_train)"
   ]
  },
  {
   "cell_type": "code",
   "execution_count": 26,
   "id": "answering-illness",
   "metadata": {},
   "outputs": [
    {
     "name": "stdout",
     "output_type": "stream",
     "text": [
      "Best estimator: MLPClassifier(activation='logistic', batch_size=300,\n",
      "              hidden_layer_sizes=(250, 150), max_iter=1000)\n",
      "Best parameters: {'alpha': 0.0001, 'batch_size': 300, 'learning_rate': 'constant'}\n"
     ]
    }
   ],
   "source": [
    "print(f'Best estimator: {grid_search_4.best_estimator_}')\n",
    "print(f'Best parameters: {grid_search_4.best_params_}')"
   ]
  },
  {
   "cell_type": "code",
   "execution_count": 27,
   "id": "dependent-weather",
   "metadata": {},
   "outputs": [
    {
     "name": "stdout",
     "output_type": "stream",
     "text": [
      "Accuracy: 82.29%\n"
     ]
    }
   ],
   "source": [
    "y_pred = grid_search_4.predict(X_test)\n",
    "accuracy_4 = accuracy_score(y_true=y_test, y_pred=y_pred)\n",
    "print(\"Accuracy: {:.2f}%\".format(accuracy_4*100))"
   ]
  },
  {
   "cell_type": "code",
   "execution_count": 28,
   "id": "miniature-safety",
   "metadata": {},
   "outputs": [
    {
     "name": "stdout",
     "output_type": "stream",
     "text": [
      "Fitting 5 folds for each of 9 candidates, totalling 45 fits\n",
      "Wall time: 54.1 s\n"
     ]
    },
    {
     "data": {
      "text/plain": [
       "GridSearchCV(estimator=MLPClassifier(activation='logistic', batch_size=200,\n",
       "                                     hidden_layer_sizes=(250, 150),\n",
       "                                     learning_rate='invscaling',\n",
       "                                     max_iter=1000),\n",
       "             n_jobs=-1,\n",
       "             param_grid={'learning_rate_init': [0.001, 0.01, 0.1],\n",
       "                         'power_t': [0.5, 0.1, 1]},\n",
       "             scoring='accuracy', verbose=1)"
      ]
     },
     "execution_count": 28,
     "metadata": {},
     "output_type": "execute_result"
    }
   ],
   "source": [
    "%%time\n",
    "\n",
    "# Tune initial learning rate and exponent for inverse scaling\n",
    "\n",
    "estimator_5 = MLPClassifier(activation='logistic', solver='adam', hidden_layer_sizes=(250, 150), alpha=0.0001, batch_size=200, learning_rate='invscaling', max_iter=1000)\n",
    "\n",
    "parameters_5 = {\n",
    "    'learning_rate_init': [0.001, 0.01, 0.1],\n",
    "    'power_t': [0.5, 0.1, 1]\n",
    "}\n",
    "\n",
    "grid_search_5 = GridSearchCV(estimator_5, parameters_5, n_jobs=-1, \n",
    "                           verbose=1, scoring = \"accuracy\", refit=True)\n",
    "grid_search_5.fit(X_train, y_train)"
   ]
  },
  {
   "cell_type": "code",
   "execution_count": 29,
   "id": "photographic-facility",
   "metadata": {},
   "outputs": [
    {
     "name": "stdout",
     "output_type": "stream",
     "text": [
      "Best estimator: MLPClassifier(activation='logistic', batch_size=200,\n",
      "              hidden_layer_sizes=(250, 150), learning_rate='invscaling',\n",
      "              max_iter=1000)\n",
      "Best parameters: {'learning_rate_init': 0.001, 'power_t': 0.5}\n"
     ]
    }
   ],
   "source": [
    "print(f'Best estimator: {grid_search_5.best_estimator_}')\n",
    "print(f'Best parameters: {grid_search_5.best_params_}')"
   ]
  },
  {
   "cell_type": "code",
   "execution_count": 30,
   "id": "specified-centre",
   "metadata": {},
   "outputs": [
    {
     "name": "stdout",
     "output_type": "stream",
     "text": [
      "Accuracy: 80.73%\n"
     ]
    }
   ],
   "source": [
    "y_pred = grid_search_5.predict(X_test)\n",
    "accuracy_5 = accuracy_score(y_true=y_test, y_pred=y_pred)\n",
    "print(\"Accuracy: {:.2f}%\".format(accuracy_5*100))"
   ]
  },
  {
   "cell_type": "code",
   "execution_count": 31,
   "id": "specialized-latitude",
   "metadata": {},
   "outputs": [
    {
     "name": "stdout",
     "output_type": "stream",
     "text": [
      "Fitting 5 folds for each of 3 candidates, totalling 15 fits\n",
      "Wall time: 39.2 s\n"
     ]
    },
    {
     "data": {
      "text/plain": [
       "GridSearchCV(estimator=MLPClassifier(activation='logistic', batch_size=200,\n",
       "                                     hidden_layer_sizes=(250, 150),\n",
       "                                     learning_rate='invscaling',\n",
       "                                     max_iter=1000),\n",
       "             n_jobs=-1, param_grid={'power_t': [1, 2, 3]}, scoring='accuracy',\n",
       "             verbose=1)"
      ]
     },
     "execution_count": 31,
     "metadata": {},
     "output_type": "execute_result"
    }
   ],
   "source": [
    "%%time\n",
    "# Test tuning power_t further\n",
    "estimator_6 = MLPClassifier(activation='logistic', solver='adam', hidden_layer_sizes=(250, 150), alpha=0.0001, batch_size=200, learning_rate='invscaling', learning_rate_init=0.001, max_iter=1000)\n",
    "\n",
    "parameters_6 = {'power_t': [1, 2, 3]}\n",
    "\n",
    "grid_search_6 = GridSearchCV(estimator_6, parameters_6, n_jobs=-1, \n",
    "                           verbose=1, scoring = \"accuracy\", refit=True)\n",
    "\n",
    "grid_search_6.fit(X_train, y_train)"
   ]
  },
  {
   "cell_type": "code",
   "execution_count": 32,
   "id": "vietnamese-carry",
   "metadata": {},
   "outputs": [
    {
     "name": "stdout",
     "output_type": "stream",
     "text": [
      "Best estimator: MLPClassifier(activation='logistic', batch_size=200,\n",
      "              hidden_layer_sizes=(250, 150), learning_rate='invscaling',\n",
      "              max_iter=1000, power_t=2)\n",
      "Best parameters: {'power_t': 2}\n"
     ]
    }
   ],
   "source": [
    "print(f'Best estimator: {grid_search_6.best_estimator_}')\n",
    "print(f'Best parameters: {grid_search_6.best_params_}')"
   ]
  },
  {
   "cell_type": "code",
   "execution_count": 33,
   "id": "stuck-ghost",
   "metadata": {},
   "outputs": [
    {
     "name": "stdout",
     "output_type": "stream",
     "text": [
      "Accuracy: 78.12%\n"
     ]
    }
   ],
   "source": [
    "y_pred = grid_search_6.predict(X_test)\n",
    "accuracy_6 = accuracy_score(y_true=y_test, y_pred=y_pred)\n",
    "print(\"Accuracy: {:.2f}%\".format(accuracy_6*100))"
   ]
  },
  {
   "cell_type": "markdown",
   "id": "lined-celtic",
   "metadata": {},
   "source": [
    "## Confirm best MLP model\n",
    "\n",
    "The best accuracy score was 81.8%. Remove any defined parameters that are set at default values and confirm score for this model"
   ]
  },
  {
   "cell_type": "code",
   "execution_count": 34,
   "id": "meaningful-message",
   "metadata": {},
   "outputs": [
    {
     "name": "stdout",
     "output_type": "stream",
     "text": [
      "Accuracy: 78.12%\n",
      "Wall time: 4.1 s\n"
     ]
    }
   ],
   "source": [
    "%%time\n",
    "best_model = MLPClassifier(hidden_layer_sizes=(250, 150), activation='logistic', batch_size=200, learning_rate='invscaling', \n",
    "                           max_iter=1000)\n",
    "best_model.fit(X_train, y_train)\n",
    "y_pred = best_model.predict(X_test)\n",
    "best_accuracy = accuracy_score(y_true=y_test, y_pred=y_pred)\n",
    "print(\"Accuracy: {:.2f}%\".format(best_accuracy*100))"
   ]
  },
  {
   "cell_type": "code",
   "execution_count": 79,
   "id": "unlikely-temple",
   "metadata": {},
   "outputs": [
    {
     "data": {
      "image/png": "[encoded data removed]",
      "text/plain": [
       "<Figure size 432x288 with 1 Axes>"
      ]
     },
     "metadata": {
      "needs_background": "light"
     },
     "output_type": "display_data"
    }
   ],
   "source": [
    "plt.plot(best_model.loss_curve_)\n",
    "plt.title('Best Model loss')\n",
    "plt.ylabel('Loss')\n",
    "plt.xlabel('Iteration')\n",
    "plt.savefig('visualizations/best_model_loss.png')\n",
    "plt.show()"
   ]
  },
  {
   "cell_type": "code",
   "execution_count": 36,
   "id": "innovative-university",
   "metadata": {},
   "outputs": [
    {
     "name": "stdout",
     "output_type": "stream",
     "text": [
      "Best loss: 0.01\n",
      "Number of iterations: 320\n",
      "Number of layers: 4\n",
      "Output activation function: softmax\n"
     ]
    }
   ],
   "source": [
    "print(f'Best loss: {round(best_model.best_loss_, 2)}')\n",
    "print(f'Number of iterations: {best_model.n_iter_}')\n",
    "print(f'Number of layers: {best_model.n_layers_}')\n",
    "print(f'Output activation function: {best_model.out_activation_}')"
   ]
  }
 ],
 "metadata": {
  "kernelspec": {
   "display_name": "Python 3",
   "language": "python",
   "name": "python3"
  },
  "language_info": {
   "codemirror_mode": {
    "name": "ipython",
    "version": 3
   },
   "file_extension": ".py",
   "mimetype": "text/x-python",
   "name": "python",
   "nbconvert_exporter": "python",
   "pygments_lexer": "ipython3",
   "version": "3.7.7"
  },
  "toc": {
   "base_numbering": 1,
   "nav_menu": {},
   "number_sections": true,
   "sideBar": true,
   "skip_h1_title": false,
   "title_cell": "Table of Contents",
   "title_sidebar": "Contents",
   "toc_cell": false,
   "toc_position": {
    "height": "calc(100% - 180px)",
    "left": "10px",
    "top": "150px",
    "width": "203.2px"
   },
   "toc_section_display": true,
   "toc_window_display": true
  }
 },
 "nbformat": 4,
 "nbformat_minor": 5
}
